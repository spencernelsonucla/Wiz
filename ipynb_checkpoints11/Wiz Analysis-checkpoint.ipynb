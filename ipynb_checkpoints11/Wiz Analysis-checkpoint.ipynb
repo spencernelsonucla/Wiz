{
 "cells": [
  {
   "cell_type": "code",
   "execution_count": 1,
   "metadata": {
    "collapsed": true
   },
   "outputs": [],
   "source": [
    "import numpy as np\n",
    "import pandas as pd\n",
    "import matplotlib.pyplot as plt\n",
    "import seaborn as sns\n",
    "get_ipython().magic('matplotlib inline')"
   ]
  },
  {
   "cell_type": "code",
   "execution_count": 6,
   "metadata": {},
   "outputs": [
    {
     "data": {
      "text/plain": [
       "'C:\\\\Users\\\\spnelson\\\\SF\\\\Personal Folders\\\\Spotify'"
      ]
     },
     "execution_count": 6,
     "metadata": {},
     "output_type": "execute_result"
    }
   ],
   "source": [
    "import os\n",
    "os.getcwd()"
   ]
  },
  {
   "cell_type": "code",
   "execution_count": 10,
   "metadata": {},
   "outputs": [],
   "source": [
    "wiz = pd.read_csv('wiz khalifa data.csv', encoding='cp1252')\n"
   ]
  },
  {
   "cell_type": "code",
   "execution_count": 11,
   "metadata": {},
   "outputs": [
    {
     "data": {
      "text/html": [
       "<div>\n",
       "<style>\n",
       "    .dataframe thead tr:only-child th {\n",
       "        text-align: right;\n",
       "    }\n",
       "\n",
       "    .dataframe thead th {\n",
       "        text-align: left;\n",
       "    }\n",
       "\n",
       "    .dataframe tbody tr th {\n",
       "        vertical-align: top;\n",
       "    }\n",
       "</style>\n",
       "<table border=\"1\" class=\"dataframe\">\n",
       "  <thead>\n",
       "    <tr style=\"text-align: right;\">\n",
       "      <th></th>\n",
       "      <th>TITLE</th>\n",
       "      <th>RELEASE</th>\n",
       "      <th>BPM</th>\n",
       "      <th>ENERGY</th>\n",
       "      <th>DANCE</th>\n",
       "      <th>LOUD</th>\n",
       "      <th>VALENCE</th>\n",
       "      <th>LENGTH</th>\n",
       "      <th>ACOUSTIC</th>\n",
       "      <th>POP</th>\n",
       "      <th>ALBUM</th>\n",
       "    </tr>\n",
       "  </thead>\n",
       "  <tbody>\n",
       "    <tr>\n",
       "      <th>0</th>\n",
       "      <td>Boarding Pass</td>\n",
       "      <td>2009</td>\n",
       "      <td>87</td>\n",
       "      <td>88</td>\n",
       "      <td>56</td>\n",
       "      <td>-5</td>\n",
       "      <td>46</td>\n",
       "      <td>2.47</td>\n",
       "      <td>0</td>\n",
       "      <td>43</td>\n",
       "      <td>Flight School</td>\n",
       "    </tr>\n",
       "    <tr>\n",
       "      <th>1</th>\n",
       "      <td>Ms. Rightfernow</td>\n",
       "      <td>2009</td>\n",
       "      <td>148</td>\n",
       "      <td>73</td>\n",
       "      <td>82</td>\n",
       "      <td>-8</td>\n",
       "      <td>84</td>\n",
       "      <td>3.49</td>\n",
       "      <td>27</td>\n",
       "      <td>37</td>\n",
       "      <td>Flight School</td>\n",
       "    </tr>\n",
       "    <tr>\n",
       "      <th>2</th>\n",
       "      <td>Shame</td>\n",
       "      <td>2009</td>\n",
       "      <td>80</td>\n",
       "      <td>81</td>\n",
       "      <td>45</td>\n",
       "      <td>-6</td>\n",
       "      <td>47</td>\n",
       "      <td>3.56</td>\n",
       "      <td>17</td>\n",
       "      <td>37</td>\n",
       "      <td>Flight School</td>\n",
       "    </tr>\n",
       "    <tr>\n",
       "      <th>3</th>\n",
       "      <td>Dreamer</td>\n",
       "      <td>2009</td>\n",
       "      <td>74</td>\n",
       "      <td>49</td>\n",
       "      <td>78</td>\n",
       "      <td>-10</td>\n",
       "      <td>25</td>\n",
       "      <td>4.15</td>\n",
       "      <td>6</td>\n",
       "      <td>38</td>\n",
       "      <td>Flight School</td>\n",
       "    </tr>\n",
       "    <tr>\n",
       "      <th>4</th>\n",
       "      <td>Get Sum</td>\n",
       "      <td>2009</td>\n",
       "      <td>142</td>\n",
       "      <td>83</td>\n",
       "      <td>75</td>\n",
       "      <td>-6</td>\n",
       "      <td>82</td>\n",
       "      <td>4.29</td>\n",
       "      <td>2</td>\n",
       "      <td>35</td>\n",
       "      <td>Flight School</td>\n",
       "    </tr>\n",
       "  </tbody>\n",
       "</table>\n",
       "</div>"
      ],
      "text/plain": [
       "             TITLE  RELEASE  BPM  ENERGY  DANCE  LOUD  VALENCE  LENGTH  \\\n",
       "0    Boarding Pass     2009   87      88     56    -5       46    2.47   \n",
       "1  Ms. Rightfernow     2009  148      73     82    -8       84    3.49   \n",
       "2            Shame     2009   80      81     45    -6       47    3.56   \n",
       "3          Dreamer     2009   74      49     78   -10       25    4.15   \n",
       "4          Get Sum     2009  142      83     75    -6       82    4.29   \n",
       "\n",
       "   ACOUSTIC  POP          ALBUM  \n",
       "0         0   43  Flight School  \n",
       "1        27   37  Flight School  \n",
       "2        17   37  Flight School  \n",
       "3         6   38  Flight School  \n",
       "4         2   35  Flight School  "
      ]
     },
     "execution_count": 11,
     "metadata": {},
     "output_type": "execute_result"
    }
   ],
   "source": [
    "wiz.head()"
   ]
  },
  {
   "cell_type": "markdown",
   "metadata": {},
   "source": [
    "To Do:\n",
    "1. popularity vs time\n",
    "2. correlation between metrics and popularity - use ggpairs\n",
    "3. more advanced ml models - xgboost\n",
    "4. metrics for each album (avg popularity by album, incorporate sales/playback data)\n",
    "5. see what differentiates top 5 songs from the rest\n",
    "6. ML"
   ]
  },
  {
   "cell_type": "code",
   "execution_count": 18,
   "metadata": {},
   "outputs": [
    {
     "data": {
      "image/png": "[encoded data removed]",
      "text/plain": [
       "<matplotlib.figure.Figure at 0xebc13b0>"
      ]
     },
     "metadata": {},
     "output_type": "display_data"
    }
   ],
   "source": [
    "plt.figure(1, figsize=(20, 10),)\n",
    "\n",
    "plt.subplot(331)\n",
    "sns.distplot(wiz.BPM);\n",
    "plt.text(10, .010, r'$\\mu=\\ 121.12$', fontsize=22)\n",
    "plt.xlabel('Tempo (BMP)', fontsize=18)\n",
    "plt.grid(True)\n",
    "\n",
    "plt.subplot(332)\n",
    "sns.distplot(wiz.POP);\n",
    "plt.text(70, .020, r'$\\mu=\\ 30.51$', fontsize=22)\n",
    "plt.xlabel('Popularity', fontsize=18)\n",
    "plt.grid(True)\n",
    "\n",
    "plt.subplot(333)\n",
    "sns.distplot(df.ENERGY);\n",
    "plt.text(85, .010, r'$\\mu=\\ 52.05$', fontsize=22)\n",
    "plt.xlabel('Energy', fontsize=18, **hfont)\n",
    "plt.grid(True)"
   ]
  },
  {
   "cell_type": "code",
   "execution_count": null,
   "metadata": {
    "collapsed": true
   },
   "outputs": [],
   "source": []
  }
 ],
 "metadata": {
  "kernelspec": {
   "display_name": "Python 3",
   "language": "python",
   "name": "python3"
  },
  "language_info": {
   "codemirror_mode": {
    "name": "ipython",
    "version": 3
   },
   "file_extension": ".py",
   "mimetype": "text/x-python",
   "name": "python",
   "nbconvert_exporter": "python",
   "pygments_lexer": "ipython3",
   "version": "3.6.3"
  }
 },
 "nbformat": 4,
 "nbformat_minor": 2
}
